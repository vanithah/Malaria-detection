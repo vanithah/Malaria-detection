{
 "cells": [
  {
   "cell_type": "code",
   "execution_count": 1,
   "metadata": {},
   "outputs": [],
   "source": [
    "# import the libraries as shown below\n",
    "\n",
    "from tensorflow.keras.layers import Input, Lambda, Dense, Flatten,Conv2D\n",
    "from tensorflow.keras.models import Model\n",
    "from tensorflow.keras.applications.vgg19 import VGG19\n",
    "from tensorflow.keras.applications.resnet50 import preprocess_input\n",
    "from tensorflow.keras.preprocessing import image\n",
    "from tensorflow.keras.preprocessing.image import ImageDataGenerator,load_img\n",
    "from tensorflow.keras.models import Sequential\n",
    "import numpy as np\n",
    "from glob import glob\n",
    "import matplotlib.pyplot as plt"
   ]
  },
  {
   "cell_type": "code",
   "execution_count": 2,
   "metadata": {},
   "outputs": [],
   "source": [
    "# re-size all the images to this\n",
    "IMAGE_SIZE = [224, 224]\n",
    "\n",
    "train_path = 'cell_images/Train'\n",
    "valid_path = 'cell_images/Test'\n"
   ]
  },
  {
   "cell_type": "code",
   "execution_count": null,
   "metadata": {},
   "outputs": [],
   "source": []
  },
  {
   "cell_type": "code",
   "execution_count": 4,
   "metadata": {},
   "outputs": [],
   "source": [
    "# Import the Vgg 16 library as shown below and add preprocessing layer to the front of VGG\n",
    "# Here we will be using imagenet weights\n",
    "\n",
    "vgg19 = VGG19(input_shape=IMAGE_SIZE + [3], weights='imagenet', include_top=False)\n",
    "\n",
    "\n"
   ]
  },
  {
   "cell_type": "code",
   "execution_count": 5,
   "metadata": {},
   "outputs": [],
   "source": [
    "# don't train existing weights\n",
    "for layer in vgg19.layers:\n",
    "    layer.trainable = False"
   ]
  },
  {
   "cell_type": "code",
   "execution_count": 6,
   "metadata": {},
   "outputs": [],
   "source": [
    "  # useful for getting number of output classes\n",
    "folders = glob('Dataset/Train/*')"
   ]
  },
  {
   "cell_type": "code",
   "execution_count": 7,
   "metadata": {},
   "outputs": [
    {
     "data": {
      "text/plain": [
       "['Dataset/Train\\\\Parasite', 'Dataset/Train\\\\Uninfected']"
      ]
     },
     "execution_count": 7,
     "metadata": {},
     "output_type": "execute_result"
    }
   ],
   "source": [
    "folders"
   ]
  },
  {
   "cell_type": "code",
   "execution_count": 8,
   "metadata": {},
   "outputs": [],
   "source": [
    "# our layers - you can add more if you want\n",
    "x = Flatten()(vgg19.output)"
   ]
  },
  {
   "cell_type": "code",
   "execution_count": 9,
   "metadata": {},
   "outputs": [],
   "source": [
    "prediction = Dense(len(folders), activation='softmax')(x)\n",
    "\n",
    "# create a model object\n",
    "model = Model(inputs=vgg19.input, outputs=prediction)"
   ]
  },
  {
   "cell_type": "code",
   "execution_count": 10,
   "metadata": {},
   "outputs": [
    {
     "name": "stdout",
     "output_type": "stream",
     "text": [
      "Model: \"functional_1\"\n",
      "_________________________________________________________________\n",
      "Layer (type)                 Output Shape              Param #   \n",
      "=================================================================\n",
      "input_2 (InputLayer)         [(None, 224, 224, 3)]     0         \n",
      "_________________________________________________________________\n",
      "block1_conv1 (Conv2D)        (None, 224, 224, 64)      1792      \n",
      "_________________________________________________________________\n",
      "block1_conv2 (Conv2D)        (None, 224, 224, 64)      36928     \n",
      "_________________________________________________________________\n",
      "block1_pool (MaxPooling2D)   (None, 112, 112, 64)      0         \n",
      "_________________________________________________________________\n",
      "block2_conv1 (Conv2D)        (None, 112, 112, 128)     73856     \n",
      "_________________________________________________________________\n",
      "block2_conv2 (Conv2D)        (None, 112, 112, 128)     147584    \n",
      "_________________________________________________________________\n",
      "block2_pool (MaxPooling2D)   (None, 56, 56, 128)       0         \n",
      "_________________________________________________________________\n",
      "block3_conv1 (Conv2D)        (None, 56, 56, 256)       295168    \n",
      "_________________________________________________________________\n",
      "block3_conv2 (Conv2D)        (None, 56, 56, 256)       590080    \n",
      "_________________________________________________________________\n",
      "block3_conv3 (Conv2D)        (None, 56, 56, 256)       590080    \n",
      "_________________________________________________________________\n",
      "block3_conv4 (Conv2D)        (None, 56, 56, 256)       590080    \n",
      "_________________________________________________________________\n",
      "block3_pool (MaxPooling2D)   (None, 28, 28, 256)       0         \n",
      "_________________________________________________________________\n",
      "block4_conv1 (Conv2D)        (None, 28, 28, 512)       1180160   \n",
      "_________________________________________________________________\n",
      "block4_conv2 (Conv2D)        (None, 28, 28, 512)       2359808   \n",
      "_________________________________________________________________\n",
      "block4_conv3 (Conv2D)        (None, 28, 28, 512)       2359808   \n",
      "_________________________________________________________________\n",
      "block4_conv4 (Conv2D)        (None, 28, 28, 512)       2359808   \n",
      "_________________________________________________________________\n",
      "block4_pool (MaxPooling2D)   (None, 14, 14, 512)       0         \n",
      "_________________________________________________________________\n",
      "block5_conv1 (Conv2D)        (None, 14, 14, 512)       2359808   \n",
      "_________________________________________________________________\n",
      "block5_conv2 (Conv2D)        (None, 14, 14, 512)       2359808   \n",
      "_________________________________________________________________\n",
      "block5_conv3 (Conv2D)        (None, 14, 14, 512)       2359808   \n",
      "_________________________________________________________________\n",
      "block5_conv4 (Conv2D)        (None, 14, 14, 512)       2359808   \n",
      "_________________________________________________________________\n",
      "block5_pool (MaxPooling2D)   (None, 7, 7, 512)         0         \n",
      "_________________________________________________________________\n",
      "flatten (Flatten)            (None, 25088)             0         \n",
      "_________________________________________________________________\n",
      "dense (Dense)                (None, 2)                 50178     \n",
      "=================================================================\n",
      "Total params: 20,074,562\n",
      "Trainable params: 50,178\n",
      "Non-trainable params: 20,024,384\n",
      "_________________________________________________________________\n"
     ]
    }
   ],
   "source": [
    "\n",
    "# view the structure of the model\n",
    "model.summary()\n"
   ]
  },
  {
   "cell_type": "code",
   "execution_count": 11,
   "metadata": {},
   "outputs": [],
   "source": [
    "# tell the model what cost and optimization method to use\n",
    "model.compile(\n",
    "  loss='categorical_crossentropy',\n",
    "  optimizer='adam',\n",
    "  metrics=['accuracy']\n",
    ")\n"
   ]
  },
  {
   "cell_type": "code",
   "execution_count": 13,
   "metadata": {},
   "outputs": [],
   "source": [
    "# Use the Image Data Generator to import the images from the dataset\n",
    "from tensorflow.keras.preprocessing.image import ImageDataGenerator\n",
    "\n",
    "train_datagen = ImageDataGenerator(rescale = 1./255,\n",
    "                                   shear_range = 0.2,\n",
    "                                   zoom_range = 0.2,\n",
    "                                   horizontal_flip = True)\n",
    "\n",
    "test_datagen = ImageDataGenerator(rescale = 1./255)"
   ]
  },
  {
   "cell_type": "code",
   "execution_count": 14,
   "metadata": {},
   "outputs": [
    {
     "name": "stdout",
     "output_type": "stream",
     "text": [
      "Found 416 images belonging to 2 classes.\n"
     ]
    }
   ],
   "source": [
    "# Make sure you provide the same target size as initialied for the image size\n",
    "training_set = train_datagen.flow_from_directory('Dataset/Train',\n",
    "                                                 target_size = (224, 224),\n",
    "                                                 batch_size = 32,\n",
    "                                                 class_mode = 'categorical')"
   ]
  },
  {
   "cell_type": "code",
   "execution_count": 15,
   "metadata": {},
   "outputs": [
    {
     "data": {
      "text/plain": [
       "<tensorflow.python.keras.preprocessing.image.DirectoryIterator at 0x1e3111d2908>"
      ]
     },
     "execution_count": 15,
     "metadata": {},
     "output_type": "execute_result"
    }
   ],
   "source": [
    "training_set"
   ]
  },
  {
   "cell_type": "code",
   "execution_count": 16,
   "metadata": {},
   "outputs": [
    {
     "name": "stdout",
     "output_type": "stream",
     "text": [
      "Found 134 images belonging to 2 classes.\n"
     ]
    }
   ],
   "source": [
    "test_set = test_datagen.flow_from_directory('Dataset/Test',\n",
    "                                            target_size = (224, 224),\n",
    "                                            batch_size = 32,\n",
    "                                            class_mode = 'categorical')"
   ]
  },
  {
   "cell_type": "code",
   "execution_count": 17,
   "metadata": {
    "scrolled": true
   },
   "outputs": [
    {
     "name": "stdout",
     "output_type": "stream",
     "text": [
      "WARNING:tensorflow:From <ipython-input-17-69229fe26ea3>:8: Model.fit_generator (from tensorflow.python.keras.engine.training) is deprecated and will be removed in a future version.\n",
      "Instructions for updating:\n",
      "Please use Model.fit, which supports generators.\n",
      "Epoch 1/50\n",
      "13/13 [==============================] - 234s 18s/step - loss: 1.6485 - accuracy: 0.4928 - val_loss: 2.0111 - val_accuracy: 0.3209\n",
      "Epoch 2/50\n",
      "13/13 [==============================] - 197s 15s/step - loss: 0.8350 - accuracy: 0.5913 - val_loss: 0.6704 - val_accuracy: 0.6791\n",
      "Epoch 3/50\n",
      "13/13 [==============================] - 191s 15s/step - loss: 0.6510 - accuracy: 0.6779 - val_loss: 0.4832 - val_accuracy: 0.7313\n",
      "Epoch 4/50\n",
      "13/13 [==============================] - 194s 15s/step - loss: 0.3935 - accuracy: 0.8269 - val_loss: 0.5211 - val_accuracy: 0.7687\n",
      "Epoch 5/50\n",
      "13/13 [==============================] - 202s 16s/step - loss: 0.3246 - accuracy: 0.8678 - val_loss: 0.4280 - val_accuracy: 0.8134\n",
      "Epoch 6/50\n",
      "13/13 [==============================] - 216s 17s/step - loss: 0.2886 - accuracy: 0.8894 - val_loss: 0.3804 - val_accuracy: 0.8134\n",
      "Epoch 7/50\n",
      "13/13 [==============================] - 199s 15s/step - loss: 0.3045 - accuracy: 0.8630 - val_loss: 0.6022 - val_accuracy: 0.6642\n",
      "Epoch 8/50\n",
      "13/13 [==============================] - 188s 14s/step - loss: 0.2767 - accuracy: 0.8870 - val_loss: 0.3422 - val_accuracy: 0.8582\n",
      "Epoch 9/50\n",
      "13/13 [==============================] - 226s 17s/step - loss: 0.2552 - accuracy: 0.8942 - val_loss: 0.3594 - val_accuracy: 0.8284\n",
      "Epoch 10/50\n",
      "13/13 [==============================] - 238s 18s/step - loss: 0.2341 - accuracy: 0.9183 - val_loss: 0.3458 - val_accuracy: 0.8284\n",
      "Epoch 11/50\n",
      "13/13 [==============================] - 236s 18s/step - loss: 0.2284 - accuracy: 0.9255 - val_loss: 0.3144 - val_accuracy: 0.8731\n",
      "Epoch 12/50\n",
      "13/13 [==============================] - 246s 19s/step - loss: 0.2129 - accuracy: 0.9279 - val_loss: 0.2927 - val_accuracy: 0.9104\n",
      "Epoch 13/50\n",
      "13/13 [==============================] - 244s 19s/step - loss: 0.2195 - accuracy: 0.9183 - val_loss: 0.5069 - val_accuracy: 0.7090\n",
      "Epoch 14/50\n",
      "13/13 [==============================] - 235s 18s/step - loss: 0.2385 - accuracy: 0.9087 - val_loss: 0.3153 - val_accuracy: 0.8731\n",
      "Epoch 15/50\n",
      "13/13 [==============================] - 239s 18s/step - loss: 0.1891 - accuracy: 0.9375 - val_loss: 0.3136 - val_accuracy: 0.8358\n",
      "Epoch 16/50\n",
      "13/13 [==============================] - 228s 18s/step - loss: 0.2201 - accuracy: 0.9207 - val_loss: 0.4758 - val_accuracy: 0.7313\n",
      "Epoch 17/50\n",
      "13/13 [==============================] - 251s 19s/step - loss: 0.1862 - accuracy: 0.9279 - val_loss: 0.2575 - val_accuracy: 0.9179\n",
      "Epoch 18/50\n",
      "13/13 [==============================] - 233s 18s/step - loss: 0.1692 - accuracy: 0.9543 - val_loss: 0.4618 - val_accuracy: 0.7388\n",
      "Epoch 19/50\n",
      "13/13 [==============================] - 231s 18s/step - loss: 0.1845 - accuracy: 0.9423 - val_loss: 0.2772 - val_accuracy: 0.8507\n",
      "Epoch 20/50\n",
      "13/13 [==============================] - 220s 17s/step - loss: 0.1853 - accuracy: 0.9351 - val_loss: 0.4416 - val_accuracy: 0.7463\n",
      "Epoch 21/50\n",
      "13/13 [==============================] - 213s 16s/step - loss: 0.1847 - accuracy: 0.9255 - val_loss: 0.3618 - val_accuracy: 0.8060\n",
      "Epoch 22/50\n",
      "13/13 [==============================] - 230s 18s/step - loss: 0.1412 - accuracy: 0.9591 - val_loss: 0.2652 - val_accuracy: 0.8955\n",
      "Epoch 23/50\n",
      "13/13 [==============================] - 233s 18s/step - loss: 0.1369 - accuracy: 0.9543 - val_loss: 0.2245 - val_accuracy: 0.9104\n",
      "Epoch 24/50\n",
      "13/13 [==============================] - 229s 18s/step - loss: 0.1708 - accuracy: 0.9255 - val_loss: 0.4056 - val_accuracy: 0.7687\n",
      "Epoch 25/50\n",
      "13/13 [==============================] - 241s 19s/step - loss: 0.1650 - accuracy: 0.9327 - val_loss: 0.2019 - val_accuracy: 0.9328\n",
      "Epoch 26/50\n",
      "13/13 [==============================] - 236s 18s/step - loss: 0.2514 - accuracy: 0.8822 - val_loss: 0.3018 - val_accuracy: 0.8507\n",
      "Epoch 27/50\n",
      "13/13 [==============================] - 219s 17s/step - loss: 0.2214 - accuracy: 0.9183 - val_loss: 0.5314 - val_accuracy: 0.7463\n",
      "Epoch 28/50\n",
      "13/13 [==============================] - 202s 16s/step - loss: 0.1578 - accuracy: 0.9351 - val_loss: 0.2234 - val_accuracy: 0.9179\n",
      "Epoch 29/50\n",
      "13/13 [==============================] - 189s 15s/step - loss: 0.1784 - accuracy: 0.9303 - val_loss: 0.2324 - val_accuracy: 0.9104\n",
      "Epoch 30/50\n",
      "13/13 [==============================] - 192s 15s/step - loss: 0.1159 - accuracy: 0.9639 - val_loss: 0.2319 - val_accuracy: 0.9179\n",
      "Epoch 31/50\n",
      "13/13 [==============================] - 198s 15s/step - loss: 0.1147 - accuracy: 0.9567 - val_loss: 0.2391 - val_accuracy: 0.9104\n",
      "Epoch 32/50\n",
      "13/13 [==============================] - 198s 15s/step - loss: 0.1243 - accuracy: 0.9591 - val_loss: 0.2257 - val_accuracy: 0.9254\n",
      "Epoch 33/50\n",
      "13/13 [==============================] - 204s 16s/step - loss: 0.1312 - accuracy: 0.9519 - val_loss: 0.4071 - val_accuracy: 0.7761\n",
      "Epoch 34/50\n",
      "13/13 [==============================] - 259s 20s/step - loss: 0.1131 - accuracy: 0.9615 - val_loss: 0.2092 - val_accuracy: 0.9254\n",
      "Epoch 35/50\n",
      "13/13 [==============================] - 205s 16s/step - loss: 0.1149 - accuracy: 0.9663 - val_loss: 0.2126 - val_accuracy: 0.9179\n",
      "Epoch 36/50\n",
      "13/13 [==============================] - 200s 15s/step - loss: 0.1128 - accuracy: 0.9663 - val_loss: 0.2465 - val_accuracy: 0.9104\n",
      "Epoch 37/50\n",
      "13/13 [==============================] - 212s 16s/step - loss: 0.1254 - accuracy: 0.9615 - val_loss: 0.3087 - val_accuracy: 0.8507\n",
      "Epoch 38/50\n",
      "13/13 [==============================] - 200s 15s/step - loss: 0.0993 - accuracy: 0.9639 - val_loss: 0.1830 - val_accuracy: 0.9403\n",
      "Epoch 39/50\n",
      "13/13 [==============================] - 204s 16s/step - loss: 0.0943 - accuracy: 0.9712 - val_loss: 0.3491 - val_accuracy: 0.8284\n",
      "Epoch 40/50\n",
      "13/13 [==============================] - 202s 16s/step - loss: 0.0959 - accuracy: 0.9688 - val_loss: 0.2163 - val_accuracy: 0.9254\n",
      "Epoch 41/50\n",
      "13/13 [==============================] - 226s 17s/step - loss: 0.0874 - accuracy: 0.9784 - val_loss: 0.2789 - val_accuracy: 0.8806\n",
      "Epoch 42/50\n",
      "13/13 [==============================] - 194s 15s/step - loss: 0.0840 - accuracy: 0.9808 - val_loss: 0.3536 - val_accuracy: 0.8358\n",
      "Epoch 43/50\n",
      "13/13 [==============================] - 196s 15s/step - loss: 0.0837 - accuracy: 0.9784 - val_loss: 0.1880 - val_accuracy: 0.9328\n",
      "Epoch 44/50\n",
      "13/13 [==============================] - 193s 15s/step - loss: 0.0853 - accuracy: 0.9784 - val_loss: 0.1879 - val_accuracy: 0.9254\n",
      "Epoch 45/50\n",
      "13/13 [==============================] - 190s 15s/step - loss: 0.0868 - accuracy: 0.9760 - val_loss: 0.2175 - val_accuracy: 0.9104\n",
      "Epoch 46/50\n",
      "13/13 [==============================] - 189s 15s/step - loss: 0.0805 - accuracy: 0.9808 - val_loss: 0.3896 - val_accuracy: 0.7985\n",
      "Epoch 47/50\n",
      "13/13 [==============================] - 189s 15s/step - loss: 0.0971 - accuracy: 0.9639 - val_loss: 0.1908 - val_accuracy: 0.9254\n",
      "Epoch 48/50\n",
      "13/13 [==============================] - 189s 15s/step - loss: 0.0827 - accuracy: 0.9712 - val_loss: 0.1907 - val_accuracy: 0.9254\n",
      "Epoch 49/50\n",
      "13/13 [==============================] - 189s 15s/step - loss: 0.0786 - accuracy: 0.9832 - val_loss: 0.1979 - val_accuracy: 0.9254\n",
      "Epoch 50/50\n",
      "13/13 [==============================] - 189s 15s/step - loss: 0.0639 - accuracy: 0.9880 - val_loss: 0.2734 - val_accuracy: 0.8657\n"
     ]
    }
   ],
   "source": [
    "# fit the model\n",
    "# Run the cell. It will take some time to execute\n",
    "r = model.fit_generator(\n",
    "  training_set,\n",
    "  validation_data=test_set,\n",
    "  epochs=50,\n",
    "  steps_per_epoch=len(training_set),\n",
    "  validation_steps=len(test_set)\n",
    ")"
   ]
  },
  {
   "cell_type": "code",
   "execution_count": 18,
   "metadata": {},
   "outputs": [
    {
     "data": {
      "image/png": "[encoded data removed]",
      "text/plain": [
       "<Figure size 432x288 with 1 Axes>"
      ]
     },
     "metadata": {
      "needs_background": "light"
     },
     "output_type": "display_data"
    },
    {
     "data": {
      "image/png": "[encoded data removed]",
      "text/plain": [
       "<Figure size 432x288 with 1 Axes>"
      ]
     },
     "metadata": {
      "needs_background": "light"
     },
     "output_type": "display_data"
    },
    {
     "data": {
      "text/plain": [
       "<Figure size 432x288 with 0 Axes>"
      ]
     },
     "metadata": {},
     "output_type": "display_data"
    }
   ],
   "source": [
    "# plot the loss\n",
    "plt.plot(r.history['loss'], label='train loss')\n",
    "plt.plot(r.history['val_loss'], label='val loss')\n",
    "plt.legend()\n",
    "plt.show()\n",
    "plt.savefig('LossVal_loss')\n",
    "\n",
    "# plot the accuracy\n",
    "plt.plot(r.history['accuracy'], label='train acc')\n",
    "plt.plot(r.history['val_accuracy'], label='val acc')\n",
    "plt.legend()\n",
    "plt.show()\n",
    "plt.savefig('AccVal_acc')"
   ]
  },
  {
   "cell_type": "code",
   "execution_count": 19,
   "metadata": {},
   "outputs": [],
   "source": [
    "# save it as a h5 file\n",
    "\n",
    "\n",
    "from tensorflow.keras.models import load_model\n",
    "\n",
    "model.save('model_vgg19.h5')"
   ]
  },
  {
   "cell_type": "code",
   "execution_count": null,
   "metadata": {},
   "outputs": [],
   "source": []
  },
  {
   "cell_type": "code",
   "execution_count": 20,
   "metadata": {},
   "outputs": [],
   "source": [
    "\n",
    "y_pred = model.predict(test_set)\n"
   ]
  },
  {
   "cell_type": "code",
   "execution_count": 21,
   "metadata": {},
   "outputs": [
    {
     "data": {
      "text/plain": [
       "array([[9.99999881e-01, 8.19037922e-08],\n",
       "       [5.07808849e-02, 9.49219108e-01],\n",
       "       [9.91054714e-01, 8.94527789e-03],\n",
       "       [6.36914372e-01, 3.63085598e-01],\n",
       "       [8.24249506e-01, 1.75750539e-01],\n",
       "       [9.99920726e-01, 7.92402134e-05],\n",
       "       [8.38262260e-01, 1.61737770e-01],\n",
       "       [9.99491215e-01, 5.08728612e-04],\n",
       "       [8.71060863e-02, 9.12893951e-01],\n",
       "       [2.91033179e-01, 7.08966792e-01],\n",
       "       [9.99983072e-01, 1.69554824e-05],\n",
       "       [6.80609345e-02, 9.31939065e-01],\n",
       "       [7.43812323e-02, 9.25618768e-01],\n",
       "       [6.60108700e-02, 9.33989108e-01],\n",
       "       [1.96389481e-02, 9.80360985e-01],\n",
       "       [9.80451047e-01, 1.95489097e-02],\n",
       "       [9.98845339e-01, 1.15462311e-03],\n",
       "       [7.69935369e-01, 2.30064690e-01],\n",
       "       [4.50530380e-01, 5.49469650e-01],\n",
       "       [9.91302133e-01, 8.69783945e-03],\n",
       "       [4.33593197e-03, 9.95664060e-01],\n",
       "       [9.99620199e-01, 3.79778445e-04],\n",
       "       [7.49738932e-01, 2.50261039e-01],\n",
       "       [9.96565044e-01, 3.43498308e-03],\n",
       "       [6.04183637e-02, 9.39581573e-01],\n",
       "       [9.99659538e-01, 3.40410799e-04],\n",
       "       [9.71530259e-01, 2.84697097e-02],\n",
       "       [7.96224892e-01, 2.03775108e-01],\n",
       "       [9.97594059e-01, 2.40592402e-03],\n",
       "       [6.14437163e-01, 3.85562867e-01],\n",
       "       [3.98572326e-01, 6.01427674e-01],\n",
       "       [1.83123514e-01, 8.16876531e-01],\n",
       "       [6.00244641e-01, 3.99755359e-01],\n",
       "       [9.99699354e-01, 3.00630403e-04],\n",
       "       [1.68587156e-02, 9.83141303e-01],\n",
       "       [2.76073553e-02, 9.72392678e-01],\n",
       "       [9.98768032e-01, 1.23195664e-03],\n",
       "       [9.71123755e-01, 2.88762357e-02],\n",
       "       [1.56660900e-02, 9.84333932e-01],\n",
       "       [5.86014800e-02, 9.41398501e-01],\n",
       "       [1.13330983e-01, 8.86669040e-01],\n",
       "       [2.52279527e-02, 9.74772096e-01],\n",
       "       [9.67958391e-01, 3.20416763e-02],\n",
       "       [9.97959375e-01, 2.04056711e-03],\n",
       "       [9.99927044e-01, 7.28983941e-05],\n",
       "       [2.45717674e-01, 7.54282355e-01],\n",
       "       [2.35796437e-01, 7.64203548e-01],\n",
       "       [1.12000264e-01, 8.87999773e-01],\n",
       "       [9.70462978e-01, 2.95369923e-02],\n",
       "       [5.54367006e-01, 4.45633084e-01],\n",
       "       [2.28442520e-01, 7.71557450e-01],\n",
       "       [1.92339979e-02, 9.80765939e-01],\n",
       "       [9.99713838e-01, 2.86130788e-04],\n",
       "       [8.25625360e-01, 1.74374670e-01],\n",
       "       [5.87437689e-01, 4.12562281e-01],\n",
       "       [5.85581958e-01, 4.14418072e-01],\n",
       "       [5.15096605e-01, 4.84903336e-01],\n",
       "       [2.10451540e-02, 9.78954792e-01],\n",
       "       [9.50976908e-01, 4.90231290e-02],\n",
       "       [5.86497724e-01, 4.13502246e-01],\n",
       "       [5.32514043e-02, 9.46748555e-01],\n",
       "       [9.93870258e-01, 6.12974027e-03],\n",
       "       [4.53779221e-01, 5.46220779e-01],\n",
       "       [7.06070900e-01, 2.93929070e-01],\n",
       "       [9.99475896e-01, 5.24069823e-04],\n",
       "       [7.09667727e-02, 9.29033220e-01],\n",
       "       [3.86175364e-01, 6.13824606e-01],\n",
       "       [6.29909992e-01, 3.70089978e-01],\n",
       "       [9.99201596e-01, 7.98404275e-04],\n",
       "       [4.64375198e-01, 5.35624862e-01],\n",
       "       [4.29181680e-02, 9.57081854e-01],\n",
       "       [5.84759772e-01, 4.15240258e-01],\n",
       "       [2.17841163e-01, 7.82158852e-01],\n",
       "       [2.58553863e-01, 7.41446197e-01],\n",
       "       [4.50409353e-02, 9.54959095e-01],\n",
       "       [9.99969959e-01, 3.00448755e-05],\n",
       "       [2.75720078e-02, 9.72427964e-01],\n",
       "       [2.45935190e-02, 9.75406468e-01],\n",
       "       [9.05956700e-02, 9.09404278e-01],\n",
       "       [8.93930793e-01, 1.06069267e-01],\n",
       "       [9.97461915e-01, 2.53809732e-03],\n",
       "       [1.49018262e-02, 9.85098124e-01],\n",
       "       [9.99939799e-01, 6.01524152e-05],\n",
       "       [6.15590155e-01, 3.84409815e-01],\n",
       "       [8.97897959e-01, 1.02102064e-01],\n",
       "       [9.97140884e-01, 2.85909115e-03],\n",
       "       [9.99992728e-01, 7.30277725e-06],\n",
       "       [9.99726355e-01, 2.73643382e-04],\n",
       "       [5.08673526e-02, 9.49132621e-01],\n",
       "       [3.43355648e-02, 9.65664387e-01],\n",
       "       [1.46080693e-02, 9.85391915e-01],\n",
       "       [7.60280788e-01, 2.39719242e-01],\n",
       "       [1.33119360e-01, 8.66880655e-01],\n",
       "       [8.96084189e-01, 1.03915788e-01],\n",
       "       [8.83302748e-01, 1.16697274e-01],\n",
       "       [9.86870468e-01, 1.31295919e-02],\n",
       "       [3.36936153e-02, 9.66306388e-01],\n",
       "       [9.98486280e-01, 1.51368324e-03],\n",
       "       [9.98981297e-01, 1.01869460e-03],\n",
       "       [9.31933999e-01, 6.80660754e-02],\n",
       "       [7.16236234e-02, 9.28376317e-01],\n",
       "       [8.01507831e-01, 1.98492199e-01],\n",
       "       [8.75765681e-02, 9.12423491e-01],\n",
       "       [9.00744200e-01, 9.92558300e-02],\n",
       "       [9.99797642e-01, 2.02394818e-04],\n",
       "       [1.08779566e-02, 9.89122093e-01],\n",
       "       [9.79053080e-01, 2.09468957e-02],\n",
       "       [1.17747132e-02, 9.88225341e-01],\n",
       "       [9.99999881e-01, 1.03745833e-07],\n",
       "       [4.98412460e-01, 5.01587570e-01],\n",
       "       [9.99148846e-01, 8.51152232e-04],\n",
       "       [1.76275019e-02, 9.82372463e-01],\n",
       "       [3.38111855e-02, 9.66188848e-01],\n",
       "       [9.99431551e-01, 5.68370509e-04],\n",
       "       [3.58903632e-02, 9.64109659e-01],\n",
       "       [9.96383071e-01, 3.61691019e-03],\n",
       "       [9.99998927e-01, 1.10071642e-06],\n",
       "       [9.93770897e-01, 6.22910121e-03],\n",
       "       [9.91047800e-01, 8.95222649e-03],\n",
       "       [9.72088635e-01, 2.79113092e-02],\n",
       "       [8.08279067e-02, 9.19172108e-01],\n",
       "       [3.07305157e-01, 6.92694843e-01],\n",
       "       [1.73981003e-02, 9.82601881e-01],\n",
       "       [9.98640478e-01, 1.35949266e-03],\n",
       "       [9.96865094e-01, 3.13484622e-03],\n",
       "       [3.47920418e-01, 6.52079642e-01],\n",
       "       [1.35525838e-01, 8.64474118e-01],\n",
       "       [3.43056656e-02, 9.65694308e-01],\n",
       "       [3.34543496e-01, 6.65456533e-01],\n",
       "       [9.92394209e-01, 7.60584464e-03],\n",
       "       [4.82360274e-02, 9.51763988e-01],\n",
       "       [7.46238053e-01, 2.53761977e-01],\n",
       "       [9.99965668e-01, 3.43124375e-05],\n",
       "       [3.01604290e-02, 9.69839573e-01]], dtype=float32)"
      ]
     },
     "execution_count": 21,
     "metadata": {},
     "output_type": "execute_result"
    }
   ],
   "source": [
    "y_pred"
   ]
  },
  {
   "cell_type": "code",
   "execution_count": 22,
   "metadata": {},
   "outputs": [],
   "source": [
    "import numpy as np\n",
    "y_pred = np.argmax(y_pred, axis=1)"
   ]
  },
  {
   "cell_type": "code",
   "execution_count": 23,
   "metadata": {},
   "outputs": [
    {
     "data": {
      "text/plain": [
       "array([0, 1, 0, 0, 0, 0, 0, 0, 1, 1, 0, 1, 1, 1, 1, 0, 0, 0, 1, 0, 1, 0,\n",
       "       0, 0, 1, 0, 0, 0, 0, 0, 1, 1, 0, 0, 1, 1, 0, 0, 1, 1, 1, 1, 0, 0,\n",
       "       0, 1, 1, 1, 0, 0, 1, 1, 0, 0, 0, 0, 0, 1, 0, 0, 1, 0, 1, 0, 0, 1,\n",
       "       1, 0, 0, 1, 1, 0, 1, 1, 1, 0, 1, 1, 1, 0, 0, 1, 0, 0, 0, 0, 0, 0,\n",
       "       1, 1, 1, 0, 1, 0, 0, 0, 1, 0, 0, 0, 1, 0, 1, 0, 0, 1, 0, 1, 0, 1,\n",
       "       0, 1, 1, 0, 1, 0, 0, 0, 0, 0, 1, 1, 1, 0, 0, 1, 1, 1, 1, 0, 1, 0,\n",
       "       0, 1], dtype=int64)"
      ]
     },
     "execution_count": 23,
     "metadata": {},
     "output_type": "execute_result"
    }
   ],
   "source": [
    "y_pred"
   ]
  },
  {
   "cell_type": "code",
   "execution_count": null,
   "metadata": {},
   "outputs": [],
   "source": []
  },
  {
   "cell_type": "code",
   "execution_count": 24,
   "metadata": {},
   "outputs": [],
   "source": [
    "from tensorflow.keras.models import load_model\n",
    "from tensorflow.keras.preprocessing import image"
   ]
  },
  {
   "cell_type": "code",
   "execution_count": 25,
   "metadata": {},
   "outputs": [],
   "source": [
    "model=load_model('model_vgg19.h5')"
   ]
  },
  {
   "cell_type": "code",
   "execution_count": null,
   "metadata": {},
   "outputs": [],
   "source": []
  },
  {
   "cell_type": "code",
   "execution_count": 26,
   "metadata": {},
   "outputs": [],
   "source": [
    "img=image.load_img('Dataset/Test/Uninfected/2.png',target_size=(224,224))\n",
    "\n"
   ]
  },
  {
   "cell_type": "code",
   "execution_count": 27,
   "metadata": {},
   "outputs": [
    {
     "data": {
      "text/plain": [
       "array([[[0., 0., 0.],\n",
       "        [0., 0., 0.],\n",
       "        [0., 0., 0.],\n",
       "        ...,\n",
       "        [0., 0., 0.],\n",
       "        [0., 0., 0.],\n",
       "        [0., 0., 0.]],\n",
       "\n",
       "       [[0., 0., 0.],\n",
       "        [0., 0., 0.],\n",
       "        [0., 0., 0.],\n",
       "        ...,\n",
       "        [0., 0., 0.],\n",
       "        [0., 0., 0.],\n",
       "        [0., 0., 0.]],\n",
       "\n",
       "       [[0., 0., 0.],\n",
       "        [0., 0., 0.],\n",
       "        [0., 0., 0.],\n",
       "        ...,\n",
       "        [0., 0., 0.],\n",
       "        [0., 0., 0.],\n",
       "        [0., 0., 0.]],\n",
       "\n",
       "       ...,\n",
       "\n",
       "       [[0., 0., 0.],\n",
       "        [0., 0., 0.],\n",
       "        [0., 0., 0.],\n",
       "        ...,\n",
       "        [0., 0., 0.],\n",
       "        [0., 0., 0.],\n",
       "        [0., 0., 0.]],\n",
       "\n",
       "       [[0., 0., 0.],\n",
       "        [0., 0., 0.],\n",
       "        [0., 0., 0.],\n",
       "        ...,\n",
       "        [0., 0., 0.],\n",
       "        [0., 0., 0.],\n",
       "        [0., 0., 0.]],\n",
       "\n",
       "       [[0., 0., 0.],\n",
       "        [0., 0., 0.],\n",
       "        [0., 0., 0.],\n",
       "        ...,\n",
       "        [0., 0., 0.],\n",
       "        [0., 0., 0.],\n",
       "        [0., 0., 0.]]], dtype=float32)"
      ]
     },
     "execution_count": 27,
     "metadata": {},
     "output_type": "execute_result"
    }
   ],
   "source": [
    "x=image.img_to_array(img)\n",
    "x"
   ]
  },
  {
   "cell_type": "code",
   "execution_count": 28,
   "metadata": {},
   "outputs": [
    {
     "data": {
      "text/plain": [
       "(224, 224, 3)"
      ]
     },
     "execution_count": 28,
     "metadata": {},
     "output_type": "execute_result"
    }
   ],
   "source": [
    "x.shape"
   ]
  },
  {
   "cell_type": "code",
   "execution_count": 29,
   "metadata": {},
   "outputs": [],
   "source": [
    "x=x/255"
   ]
  },
  {
   "cell_type": "code",
   "execution_count": 30,
   "metadata": {},
   "outputs": [
    {
     "data": {
      "text/plain": [
       "(1, 224, 224, 3)"
      ]
     },
     "execution_count": 30,
     "metadata": {},
     "output_type": "execute_result"
    }
   ],
   "source": [
    "x=np.expand_dims(x,axis=0)\n",
    "img_data=preprocess_input(x)\n",
    "img_data.shape"
   ]
  },
  {
   "cell_type": "code",
   "execution_count": 31,
   "metadata": {},
   "outputs": [
    {
     "data": {
      "text/plain": [
       "array([[2.7151957e-05, 9.9997282e-01]], dtype=float32)"
      ]
     },
     "execution_count": 31,
     "metadata": {},
     "output_type": "execute_result"
    }
   ],
   "source": [
    "model.predict(img_data)"
   ]
  },
  {
   "cell_type": "code",
   "execution_count": 32,
   "metadata": {},
   "outputs": [],
   "source": [
    "a=np.argmax(model.predict(img_data), axis=1)"
   ]
  },
  {
   "cell_type": "code",
   "execution_count": 33,
   "metadata": {},
   "outputs": [
    {
     "name": "stdout",
     "output_type": "stream",
     "text": [
      "Uninfected\n"
     ]
    }
   ],
   "source": [
    "if(a==1):\n",
    "    print(\"Uninfected\")\n",
    "else:\n",
    "    print(\"Infected\")"
   ]
  },
  {
   "cell_type": "code",
   "execution_count": null,
   "metadata": {},
   "outputs": [],
   "source": []
  },
  {
   "cell_type": "code",
   "execution_count": null,
   "metadata": {},
   "outputs": [],
   "source": []
  }
 ],
 "metadata": {
  "kernelspec": {
   "display_name": "Python 3",
   "language": "python",
   "name": "python3"
  },
  "language_info": {
   "codemirror_mode": {
    "name": "ipython",
    "version": 3
   },
   "file_extension": ".py",
   "mimetype": "text/x-python",
   "name": "python",
   "nbconvert_exporter": "python",
   "pygments_lexer": "ipython3",
   "version": "3.7.4"
  }
 },
 "nbformat": 4,
 "nbformat_minor": 2
}
