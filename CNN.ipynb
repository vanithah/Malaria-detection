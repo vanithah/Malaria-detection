{
 "cells": [
  {
   "cell_type": "code",
   "execution_count": 1,
   "metadata": {},
   "outputs": [
    {
     "name": "stdout",
     "output_type": "stream",
     "text": [
      "Requirement already satisfied: numpy in c:\\users\\dell\\anaconda3\\lib\\site-packages (1.15.0)\n"
     ]
    }
   ],
   "source": []
  },
  {
   "cell_type": "code",
   "execution_count": 1,
   "metadata": {},
   "outputs": [],
   "source": [
    "# import the libraries as shown below\n",
    "\n",
    "from tensorflow.keras.layers import Input, Lambda, Dense, Flatten,Conv2D\n",
    "from tensorflow.keras.models import Model\n",
    "from tensorflow.keras.applications.vgg19 import VGG19\n",
    "from tensorflow.keras.applications.resnet50 import preprocess_input\n",
    "from tensorflow.keras.preprocessing import image\n",
    "from tensorflow.keras.preprocessing.image import ImageDataGenerator,load_img\n",
    "from tensorflow.keras.models import Sequential\n",
    "import numpy as np\n",
    "from glob import glob\n",
    "import matplotlib.pyplot as plt"
   ]
  },
  {
   "cell_type": "code",
   "execution_count": 2,
   "metadata": {},
   "outputs": [],
   "source": [
    "# re-size all the images to this\n",
    "IMAGE_SIZE = [224, 224]\n",
    "\n",
    "train_path = 'cell_images/Train'\n",
    "valid_path = 'cell_images/Test'\n"
   ]
  },
  {
   "cell_type": "code",
   "execution_count": null,
   "metadata": {},
   "outputs": [],
   "source": []
  },
  {
   "cell_type": "code",
   "execution_count": 3,
   "metadata": {},
   "outputs": [],
   "source": [
    "  # useful for getting number of output classes\n",
    "folders = glob('Dataset/Train/*')"
   ]
  },
  {
   "cell_type": "code",
   "execution_count": 4,
   "metadata": {},
   "outputs": [
    {
     "data": {
      "text/plain": [
       "['Dataset/Train\\\\Parasite', 'Dataset/Train\\\\Uninfected']"
      ]
     },
     "execution_count": 4,
     "metadata": {},
     "output_type": "execute_result"
    }
   ],
   "source": [
    "folders"
   ]
  },
  {
   "cell_type": "code",
   "execution_count": 5,
   "metadata": {},
   "outputs": [],
   "source": [
    "from tensorflow.keras.layers import MaxPooling2D"
   ]
  },
  {
   "cell_type": "code",
   "execution_count": 6,
   "metadata": {},
   "outputs": [
    {
     "name": "stdout",
     "output_type": "stream",
     "text": [
      "Model: \"sequential\"\n",
      "_________________________________________________________________\n",
      "Layer (type)                 Output Shape              Param #   \n",
      "=================================================================\n",
      "conv2d (Conv2D)              (None, 224, 224, 16)      208       \n",
      "_________________________________________________________________\n",
      "max_pooling2d (MaxPooling2D) (None, 112, 112, 16)      0         \n",
      "_________________________________________________________________\n",
      "conv2d_1 (Conv2D)            (None, 112, 112, 32)      2080      \n",
      "_________________________________________________________________\n",
      "max_pooling2d_1 (MaxPooling2 (None, 56, 56, 32)        0         \n",
      "_________________________________________________________________\n",
      "conv2d_2 (Conv2D)            (None, 56, 56, 64)        8256      \n",
      "_________________________________________________________________\n",
      "max_pooling2d_2 (MaxPooling2 (None, 28, 28, 64)        0         \n",
      "_________________________________________________________________\n",
      "flatten (Flatten)            (None, 50176)             0         \n",
      "_________________________________________________________________\n",
      "dense (Dense)                (None, 500)               25088500  \n",
      "_________________________________________________________________\n",
      "dense_1 (Dense)              (None, 2)                 1002      \n",
      "=================================================================\n",
      "Total params: 25,100,046\n",
      "Trainable params: 25,100,046\n",
      "Non-trainable params: 0\n",
      "_________________________________________________________________\n"
     ]
    }
   ],
   "source": [
    "### Create Model from scratch using CNN\n",
    "model=Sequential()\n",
    "model.add(Conv2D(filters=16,kernel_size=2,padding=\"same\",activation=\"relu\",input_shape=(224,224,3)))\n",
    "model.add(MaxPooling2D(pool_size=2))\n",
    "model.add(Conv2D(filters=32,kernel_size=2,padding=\"same\",activation =\"relu\"))\n",
    "model.add(MaxPooling2D(pool_size=2))\n",
    "model.add(Conv2D(filters=64,kernel_size=2,padding=\"same\",activation=\"relu\"))\n",
    "model.add(MaxPooling2D(pool_size=2))\n",
    "model.add(Flatten())\n",
    "model.add(Dense(500,activation=\"relu\"))\n",
    "model.add(Dense(2,activation=\"softmax\"))\n",
    "model.summary()"
   ]
  },
  {
   "cell_type": "code",
   "execution_count": 7,
   "metadata": {},
   "outputs": [],
   "source": [
    "# tell the model what cost and optimization method to use\n",
    "model.compile(\n",
    "  loss='categorical_crossentropy',\n",
    "  optimizer='adam',\n",
    "  metrics=['accuracy']\n",
    ")\n"
   ]
  },
  {
   "cell_type": "code",
   "execution_count": 8,
   "metadata": {},
   "outputs": [],
   "source": [
    "# Use the Image Data Generator to import the images from the dataset\n",
    "from tensorflow.keras.preprocessing.image import ImageDataGenerator\n",
    "\n",
    "train_datagen = ImageDataGenerator(rescale = 1./255,\n",
    "                                   shear_range = 0.2,\n",
    "                                   zoom_range = 0.2,\n",
    "                                   horizontal_flip = True)\n",
    "\n",
    "test_datagen = ImageDataGenerator(rescale = 1./255)"
   ]
  },
  {
   "cell_type": "code",
   "execution_count": 9,
   "metadata": {},
   "outputs": [
    {
     "name": "stdout",
     "output_type": "stream",
     "text": [
      "Found 416 images belonging to 2 classes.\n"
     ]
    }
   ],
   "source": [
    "# Make sure you provide the same target size as initialied for the image size\n",
    "training_set = train_datagen.flow_from_directory('Dataset/Train',\n",
    "                                                 target_size = (224, 224),\n",
    "                                                 batch_size = 32,\n",
    "                                                 class_mode = 'categorical')"
   ]
  },
  {
   "cell_type": "code",
   "execution_count": 10,
   "metadata": {},
   "outputs": [
    {
     "data": {
      "text/plain": [
       "<tensorflow.python.keras.preprocessing.image.DirectoryIterator at 0x209e4c1b508>"
      ]
     },
     "execution_count": 10,
     "metadata": {},
     "output_type": "execute_result"
    }
   ],
   "source": [
    "training_set"
   ]
  },
  {
   "cell_type": "code",
   "execution_count": 11,
   "metadata": {},
   "outputs": [
    {
     "name": "stdout",
     "output_type": "stream",
     "text": [
      "Found 134 images belonging to 2 classes.\n"
     ]
    }
   ],
   "source": [
    "test_set = test_datagen.flow_from_directory('Dataset/Test',\n",
    "                                            target_size = (224, 224),\n",
    "                                            batch_size = 32,\n",
    "                                            class_mode = 'categorical')"
   ]
  },
  {
   "cell_type": "code",
   "execution_count": 12,
   "metadata": {
    "scrolled": true
   },
   "outputs": [
    {
     "name": "stdout",
     "output_type": "stream",
     "text": [
      "WARNING:tensorflow:From <ipython-input-12-69229fe26ea3>:8: Model.fit_generator (from tensorflow.python.keras.engine.training) is deprecated and will be removed in a future version.\n",
      "Instructions for updating:\n",
      "Please use Model.fit, which supports generators.\n",
      "Epoch 1/50\n",
      "13/13 [==============================] - 36s 3s/step - loss: 2.3462 - accuracy: 0.5337 - val_loss: 0.6710 - val_accuracy: 0.6791\n",
      "Epoch 2/50\n",
      "13/13 [==============================] - 19s 1s/step - loss: 0.7115 - accuracy: 0.5409 - val_loss: 0.7377 - val_accuracy: 0.3955\n",
      "Epoch 3/50\n",
      "13/13 [==============================] - 20s 2s/step - loss: 0.6420 - accuracy: 0.6394 - val_loss: 0.8448 - val_accuracy: 0.3582\n",
      "Epoch 4/50\n",
      "13/13 [==============================] - 19s 1s/step - loss: 0.6135 - accuracy: 0.6875 - val_loss: 1.1854 - val_accuracy: 0.3507\n",
      "Epoch 5/50\n",
      "13/13 [==============================] - 18s 1s/step - loss: 0.7357 - accuracy: 0.5673 - val_loss: 0.6678 - val_accuracy: 0.6791\n",
      "Epoch 6/50\n",
      "13/13 [==============================] - 18s 1s/step - loss: 0.6009 - accuracy: 0.7139 - val_loss: 0.7470 - val_accuracy: 0.3806\n",
      "Epoch 7/50\n",
      "13/13 [==============================] - 18s 1s/step - loss: 0.5169 - accuracy: 0.7885 - val_loss: 0.8344 - val_accuracy: 0.3731\n",
      "Epoch 8/50\n",
      "13/13 [==============================] - 18s 1s/step - loss: 0.4886 - accuracy: 0.7452 - val_loss: 1.3230 - val_accuracy: 0.3582\n",
      "Epoch 9/50\n",
      "13/13 [==============================] - 18s 1s/step - loss: 0.5156 - accuracy: 0.7139 - val_loss: 1.1550 - val_accuracy: 0.3657\n",
      "Epoch 10/50\n",
      "13/13 [==============================] - 18s 1s/step - loss: 0.5738 - accuracy: 0.6851 - val_loss: 0.7093 - val_accuracy: 0.5000\n",
      "Epoch 11/50\n",
      "13/13 [==============================] - 19s 1s/step - loss: 0.5621 - accuracy: 0.6923 - val_loss: 0.7230 - val_accuracy: 0.4776\n",
      "Epoch 12/50\n",
      "13/13 [==============================] - 20s 2s/step - loss: 0.5060 - accuracy: 0.7620 - val_loss: 0.9708 - val_accuracy: 0.3806\n",
      "Epoch 13/50\n",
      "13/13 [==============================] - 20s 2s/step - loss: 0.5056 - accuracy: 0.7404 - val_loss: 0.7321 - val_accuracy: 0.4701\n",
      "Epoch 14/50\n",
      "13/13 [==============================] - 18s 1s/step - loss: 0.4179 - accuracy: 0.8317 - val_loss: 1.2570 - val_accuracy: 0.3582\n",
      "Epoch 15/50\n",
      "13/13 [==============================] - 18s 1s/step - loss: 0.4363 - accuracy: 0.7957 - val_loss: 1.2425 - val_accuracy: 0.4328\n",
      "Epoch 16/50\n",
      "13/13 [==============================] - 18s 1s/step - loss: 0.4663 - accuracy: 0.8053 - val_loss: 0.7137 - val_accuracy: 0.5224\n",
      "Epoch 17/50\n",
      "13/13 [==============================] - 19s 1s/step - loss: 0.3731 - accuracy: 0.8413 - val_loss: 0.8577 - val_accuracy: 0.4552\n",
      "Epoch 18/50\n",
      "13/13 [==============================] - 18s 1s/step - loss: 0.3388 - accuracy: 0.8486 - val_loss: 0.7427 - val_accuracy: 0.5597\n",
      "Epoch 19/50\n",
      "13/13 [==============================] - 19s 1s/step - loss: 0.3411 - accuracy: 0.8582 - val_loss: 0.7326 - val_accuracy: 0.6045\n",
      "Epoch 20/50\n",
      "13/13 [==============================] - 18s 1s/step - loss: 0.3085 - accuracy: 0.8630 - val_loss: 1.1414 - val_accuracy: 0.4701\n",
      "Epoch 21/50\n",
      "13/13 [==============================] - 18s 1s/step - loss: 0.3415 - accuracy: 0.8462 - val_loss: 1.0668 - val_accuracy: 0.4851\n",
      "Epoch 22/50\n",
      "13/13 [==============================] - 18s 1s/step - loss: 0.2703 - accuracy: 0.8942 - val_loss: 0.8339 - val_accuracy: 0.5746\n",
      "Epoch 23/50\n",
      "13/13 [==============================] - 18s 1s/step - loss: 0.2477 - accuracy: 0.9062 - val_loss: 0.5333 - val_accuracy: 0.7313\n",
      "Epoch 24/50\n",
      "13/13 [==============================] - 18s 1s/step - loss: 0.2456 - accuracy: 0.9135 - val_loss: 0.9425 - val_accuracy: 0.5448\n",
      "Epoch 25/50\n",
      "13/13 [==============================] - 18s 1s/step - loss: 0.2445 - accuracy: 0.9014 - val_loss: 0.7998 - val_accuracy: 0.5821\n",
      "Epoch 26/50\n",
      "13/13 [==============================] - 18s 1s/step - loss: 0.1998 - accuracy: 0.9255 - val_loss: 0.6895 - val_accuracy: 0.6567\n",
      "Epoch 27/50\n",
      "13/13 [==============================] - 18s 1s/step - loss: 0.1951 - accuracy: 0.9303 - val_loss: 0.6135 - val_accuracy: 0.7015\n",
      "Epoch 28/50\n",
      "13/13 [==============================] - 18s 1s/step - loss: 0.2106 - accuracy: 0.9183 - val_loss: 0.5715 - val_accuracy: 0.7164\n",
      "Epoch 29/50\n",
      "13/13 [==============================] - 18s 1s/step - loss: 0.1722 - accuracy: 0.9447 - val_loss: 0.5994 - val_accuracy: 0.7164\n",
      "Epoch 30/50\n",
      "13/13 [==============================] - 18s 1s/step - loss: 0.1684 - accuracy: 0.9399 - val_loss: 0.4459 - val_accuracy: 0.7761\n",
      "Epoch 31/50\n",
      "13/13 [==============================] - 19s 1s/step - loss: 0.1513 - accuracy: 0.9567 - val_loss: 0.4542 - val_accuracy: 0.7910\n",
      "Epoch 32/50\n",
      "13/13 [==============================] - 12s 887ms/step - loss: 0.1336 - accuracy: 0.9591 - val_loss: 0.5899 - val_accuracy: 0.7612\n",
      "Epoch 33/50\n",
      "13/13 [==============================] - 18s 1s/step - loss: 0.1646 - accuracy: 0.9231 - val_loss: 0.7848 - val_accuracy: 0.7015\n",
      "Epoch 34/50\n",
      "13/13 [==============================] - 18s 1s/step - loss: 0.1439 - accuracy: 0.9543 - val_loss: 0.3926 - val_accuracy: 0.8060\n",
      "Epoch 35/50\n",
      "13/13 [==============================] - 18s 1s/step - loss: 0.1386 - accuracy: 0.9543 - val_loss: 0.6713 - val_accuracy: 0.7015\n",
      "Epoch 36/50\n",
      "13/13 [==============================] - 21s 2s/step - loss: 0.2132 - accuracy: 0.9038 - val_loss: 0.4081 - val_accuracy: 0.7910\n",
      "Epoch 37/50\n",
      "13/13 [==============================] - 21s 2s/step - loss: 0.1594 - accuracy: 0.9471 - val_loss: 0.5536 - val_accuracy: 0.7313\n",
      "Epoch 38/50\n",
      "13/13 [==============================] - 20s 2s/step - loss: 0.1487 - accuracy: 0.9519 - val_loss: 0.9326 - val_accuracy: 0.6493\n",
      "Epoch 39/50\n",
      "13/13 [==============================] - 20s 2s/step - loss: 0.2176 - accuracy: 0.9159 - val_loss: 0.3914 - val_accuracy: 0.8134\n",
      "Epoch 40/50\n",
      "13/13 [==============================] - 20s 2s/step - loss: 0.1992 - accuracy: 0.9375 - val_loss: 0.4299 - val_accuracy: 0.7836\n",
      "Epoch 41/50\n",
      "13/13 [==============================] - 19s 1s/step - loss: 0.1302 - accuracy: 0.9639 - val_loss: 0.3031 - val_accuracy: 0.8657\n",
      "Epoch 42/50\n",
      "13/13 [==============================] - 19s 1s/step - loss: 0.1017 - accuracy: 0.9639 - val_loss: 0.2982 - val_accuracy: 0.8582\n",
      "Epoch 43/50\n",
      "13/13 [==============================] - 18s 1s/step - loss: 0.0931 - accuracy: 0.9688 - val_loss: 0.2562 - val_accuracy: 0.8881\n",
      "Epoch 44/50\n",
      "13/13 [==============================] - 18s 1s/step - loss: 0.1241 - accuracy: 0.9543 - val_loss: 0.4326 - val_accuracy: 0.8284\n",
      "Epoch 45/50\n",
      "13/13 [==============================] - 19s 1s/step - loss: 0.0881 - accuracy: 0.9639 - val_loss: 0.3587 - val_accuracy: 0.8731\n",
      "Epoch 46/50\n",
      "13/13 [==============================] - 19s 1s/step - loss: 0.0922 - accuracy: 0.9712 - val_loss: 0.2789 - val_accuracy: 0.8881\n",
      "Epoch 47/50\n",
      "13/13 [==============================] - 18s 1s/step - loss: 0.0808 - accuracy: 0.9712 - val_loss: 0.3465 - val_accuracy: 0.8657\n",
      "Epoch 48/50\n",
      "13/13 [==============================] - 18s 1s/step - loss: 0.2182 - accuracy: 0.9014 - val_loss: 0.4597 - val_accuracy: 0.7836\n",
      "Epoch 49/50\n",
      "13/13 [==============================] - 19s 1s/step - loss: 0.2024 - accuracy: 0.9207 - val_loss: 0.4319 - val_accuracy: 0.8358\n",
      "Epoch 50/50\n",
      "13/13 [==============================] - 18s 1s/step - loss: 0.1365 - accuracy: 0.9495 - val_loss: 0.3000 - val_accuracy: 0.8657\n"
     ]
    }
   ],
   "source": [
    "# fit the model\n",
    "# Run the cell. It will take some time to execute\n",
    "r = model.fit_generator(\n",
    "  training_set,\n",
    "  validation_data=test_set,\n",
    "  epochs=50,\n",
    "  steps_per_epoch=len(training_set),\n",
    "  validation_steps=len(test_set)\n",
    ")"
   ]
  },
  {
   "cell_type": "code",
   "execution_count": null,
   "metadata": {},
   "outputs": [],
   "source": []
  },
  {
   "cell_type": "code",
   "execution_count": 13,
   "metadata": {},
   "outputs": [
    {
     "data": {
      "image/png": "[encoded data removed]",
      "text/plain": [
       "<Figure size 432x288 with 1 Axes>"
      ]
     },
     "metadata": {
      "needs_background": "light"
     },
     "output_type": "display_data"
    },
    {
     "data": {
      "image/png": "[encoded data removed]",
      "text/plain": [
       "<Figure size 432x288 with 1 Axes>"
      ]
     },
     "metadata": {
      "needs_background": "light"
     },
     "output_type": "display_data"
    },
    {
     "data": {
      "text/plain": [
       "<Figure size 432x288 with 0 Axes>"
      ]
     },
     "metadata": {},
     "output_type": "display_data"
    }
   ],
   "source": [
    "# plot the loss\n",
    "plt.plot(r.history['loss'], label='train loss')\n",
    "plt.plot(r.history['val_loss'], label='val loss')\n",
    "plt.legend()\n",
    "plt.show()\n",
    "plt.savefig('LossVal_loss')\n",
    "\n",
    "# plot the accuracy\n",
    "plt.plot(r.history['accuracy'], label='train acc')\n",
    "plt.plot(r.history['val_accuracy'], label='val acc')\n",
    "plt.legend()\n",
    "plt.show()\n",
    "plt.savefig('AccVal_acc')"
   ]
  },
  {
   "cell_type": "code",
   "execution_count": 23,
   "metadata": {},
   "outputs": [],
   "source": [
    "# save it as a h5 file\n",
    "\n",
    "\n",
    "from tensorflow.keras.models import load_model\n",
    "\n",
    "model.save('model_cnn.h5')"
   ]
  },
  {
   "cell_type": "code",
   "execution_count": 24,
   "metadata": {},
   "outputs": [],
   "source": [
    "\n",
    "y_pred = model.predict(test_set)\n"
   ]
  },
  {
   "cell_type": "code",
   "execution_count": 25,
   "metadata": {},
   "outputs": [
    {
     "data": {
      "text/plain": [
       "array([[2.27115035e-01, 7.72885025e-01],\n",
       "       [9.59574282e-01, 4.04256955e-02],\n",
       "       [1.86208174e-01, 8.13791871e-01],\n",
       "       [9.99919415e-01, 8.05987947e-05],\n",
       "       [1.72278106e-01, 8.27721894e-01],\n",
       "       [5.19086540e-01, 4.80913430e-01],\n",
       "       [9.98160660e-01, 1.83940586e-03],\n",
       "       [9.56346869e-01, 4.36531231e-02],\n",
       "       [7.13131726e-02, 9.28686798e-01],\n",
       "       [9.99903321e-01, 9.66625012e-05],\n",
       "       [9.77766156e-01, 2.22338475e-02],\n",
       "       [9.95662868e-01, 4.33715293e-03],\n",
       "       [8.31386149e-01, 1.68613851e-01],\n",
       "       [6.38314426e-01, 3.61685634e-01],\n",
       "       [9.96794164e-01, 3.20586003e-03],\n",
       "       [9.99849796e-01, 1.50187712e-04],\n",
       "       [1.36551619e-01, 8.63448381e-01],\n",
       "       [7.13245213e-01, 2.86754817e-01],\n",
       "       [2.40400452e-02, 9.75959957e-01],\n",
       "       [9.98702288e-01, 1.29771128e-03],\n",
       "       [9.82118964e-01, 1.78810582e-02],\n",
       "       [7.39954636e-02, 9.26004469e-01],\n",
       "       [8.64774168e-01, 1.35225803e-01],\n",
       "       [1.07281171e-01, 8.92718792e-01],\n",
       "       [9.99871016e-01, 1.28928776e-04],\n",
       "       [4.21640538e-02, 9.57835913e-01],\n",
       "       [1.75675288e-01, 8.24324727e-01],\n",
       "       [9.00383815e-02, 9.09961641e-01],\n",
       "       [9.99963284e-01, 3.66626773e-05],\n",
       "       [9.99999762e-01, 1.98046848e-07],\n",
       "       [9.99969006e-01, 3.10346622e-05],\n",
       "       [4.33415353e-01, 5.66584706e-01],\n",
       "       [1.06202871e-01, 8.93797159e-01],\n",
       "       [9.56455767e-01, 4.35442440e-02],\n",
       "       [8.15151408e-02, 9.18484926e-01],\n",
       "       [9.36540484e-01, 6.34595156e-02],\n",
       "       [9.93811548e-01, 6.18852535e-03],\n",
       "       [9.99588549e-01, 4.11488814e-04],\n",
       "       [9.71973419e-01, 2.80265566e-02],\n",
       "       [9.19880494e-02, 9.08011973e-01],\n",
       "       [2.62077183e-01, 7.37922847e-01],\n",
       "       [2.42059976e-01, 7.57939994e-01],\n",
       "       [9.99723852e-01, 2.76182400e-04],\n",
       "       [9.99884605e-01, 1.15372924e-04],\n",
       "       [9.99999762e-01, 1.92836879e-07],\n",
       "       [1.30555004e-01, 8.69445026e-01],\n",
       "       [9.73608077e-01, 2.63918880e-02],\n",
       "       [9.99848247e-01, 1.51745538e-04],\n",
       "       [2.47619405e-01, 7.52380610e-01],\n",
       "       [9.90496516e-01, 9.50352103e-03],\n",
       "       [2.76819646e-01, 7.23180354e-01],\n",
       "       [9.85932469e-01, 1.40675418e-02],\n",
       "       [7.51904726e-01, 2.48095244e-01],\n",
       "       [6.19652808e-01, 3.80347222e-01],\n",
       "       [2.09261000e-01, 7.90739059e-01],\n",
       "       [2.29282260e-01, 7.70717800e-01],\n",
       "       [9.99927402e-01, 7.25797363e-05],\n",
       "       [9.99949455e-01, 5.04981545e-05],\n",
       "       [3.21242303e-01, 6.78757668e-01],\n",
       "       [5.22927582e-01, 4.77072388e-01],\n",
       "       [9.93067265e-01, 6.93276292e-03],\n",
       "       [7.81650305e-01, 2.18349665e-01],\n",
       "       [2.88076371e-01, 7.11923599e-01],\n",
       "       [2.08151907e-01, 7.91848123e-01],\n",
       "       [9.50657248e-01, 4.93427590e-02],\n",
       "       [9.98977304e-01, 1.02269615e-03],\n",
       "       [6.79536641e-01, 3.20463330e-01],\n",
       "       [9.66403544e-01, 3.35964002e-02],\n",
       "       [8.52206528e-01, 1.47793442e-01],\n",
       "       [7.67369986e-01, 2.32629955e-01],\n",
       "       [9.97255266e-01, 2.74471636e-03],\n",
       "       [9.98540521e-01, 1.45949819e-03],\n",
       "       [1.34488761e-01, 8.65511298e-01],\n",
       "       [2.21343458e-01, 7.78656542e-01],\n",
       "       [2.70192146e-01, 7.29807794e-01],\n",
       "       [2.48907909e-01, 7.51092076e-01],\n",
       "       [9.96289968e-01, 3.71005433e-03],\n",
       "       [9.93254364e-01, 6.74560294e-03],\n",
       "       [1.44921839e-01, 8.55078101e-01],\n",
       "       [3.37389648e-01, 6.62610412e-01],\n",
       "       [3.36026967e-01, 6.63973033e-01],\n",
       "       [9.94231999e-01, 5.76793030e-03],\n",
       "       [4.23674613e-01, 5.76325417e-01],\n",
       "       [9.83047843e-01, 1.69521663e-02],\n",
       "       [9.99999166e-01, 8.44413307e-07],\n",
       "       [9.79073286e-01, 2.09267214e-02],\n",
       "       [3.41971338e-01, 6.58028603e-01],\n",
       "       [9.98133719e-01, 1.86632026e-03],\n",
       "       [9.99955535e-01, 4.44311045e-05],\n",
       "       [1.65683016e-01, 8.34316969e-01],\n",
       "       [4.56841260e-01, 5.43158770e-01],\n",
       "       [6.82979748e-02, 9.31702018e-01],\n",
       "       [9.99994755e-01, 5.21259381e-06],\n",
       "       [2.71020737e-02, 9.72897947e-01],\n",
       "       [2.54419029e-01, 7.45581031e-01],\n",
       "       [2.03403279e-01, 7.96596706e-01],\n",
       "       [9.99999762e-01, 2.87936984e-07],\n",
       "       [8.43629003e-01, 1.56371012e-01],\n",
       "       [9.36974823e-01, 6.30252436e-02],\n",
       "       [9.25613046e-01, 7.43869394e-02],\n",
       "       [9.00909603e-02, 9.09909070e-01],\n",
       "       [5.04193544e-01, 4.95806456e-01],\n",
       "       [9.99182642e-01, 8.17329797e-04],\n",
       "       [9.87773240e-01, 1.22267017e-02],\n",
       "       [9.99989867e-01, 1.01217629e-05],\n",
       "       [8.76173735e-01, 1.23826332e-01],\n",
       "       [1.37499258e-01, 8.62500727e-01],\n",
       "       [6.88240826e-01, 3.11759204e-01],\n",
       "       [8.25246632e-01, 1.74753368e-01],\n",
       "       [1.66683838e-01, 8.33316147e-01],\n",
       "       [3.07741851e-01, 6.92258120e-01],\n",
       "       [9.87578452e-01, 1.24215866e-02],\n",
       "       [9.91103888e-01, 8.89615994e-03],\n",
       "       [3.56130093e-01, 6.43869877e-01],\n",
       "       [8.91483545e-01, 1.08516455e-01],\n",
       "       [6.98109508e-01, 3.01890552e-01],\n",
       "       [9.98371422e-01, 1.62859936e-03],\n",
       "       [2.18104750e-01, 7.81895280e-01],\n",
       "       [9.84029353e-01, 1.59706213e-02],\n",
       "       [3.18000585e-01, 6.81999445e-01],\n",
       "       [2.55471230e-01, 7.44528770e-01],\n",
       "       [9.95144665e-01, 4.85535711e-03],\n",
       "       [1.48106456e-01, 8.51893604e-01],\n",
       "       [5.47758818e-01, 4.52241182e-01],\n",
       "       [2.22967505e-01, 7.77032495e-01],\n",
       "       [5.12225747e-01, 4.87774253e-01],\n",
       "       [9.94120181e-01, 5.87981986e-03],\n",
       "       [9.76007640e-01, 2.39923820e-02],\n",
       "       [7.99586535e-01, 2.00413406e-01],\n",
       "       [9.99956608e-01, 4.33786518e-05],\n",
       "       [9.98959422e-01, 1.04061200e-03],\n",
       "       [4.93267477e-02, 9.50673282e-01],\n",
       "       [9.98896122e-01, 1.10386068e-03],\n",
       "       [9.93397236e-01, 6.60270080e-03]], dtype=float32)"
      ]
     },
     "execution_count": 25,
     "metadata": {},
     "output_type": "execute_result"
    }
   ],
   "source": [
    "y_pred"
   ]
  },
  {
   "cell_type": "code",
   "execution_count": 26,
   "metadata": {},
   "outputs": [],
   "source": [
    "import numpy as np\n",
    "y_pred = np.argmax(y_pred, axis=1)"
   ]
  },
  {
   "cell_type": "code",
   "execution_count": 27,
   "metadata": {},
   "outputs": [
    {
     "data": {
      "text/plain": [
       "array([1, 0, 1, 0, 1, 0, 0, 0, 1, 0, 0, 0, 0, 0, 0, 0, 1, 0, 1, 0, 0, 1,\n",
       "       0, 1, 0, 1, 1, 1, 0, 0, 0, 1, 1, 0, 1, 0, 0, 0, 0, 1, 1, 1, 0, 0,\n",
       "       0, 1, 0, 0, 1, 0, 1, 0, 0, 0, 1, 1, 0, 0, 1, 0, 0, 0, 1, 1, 0, 0,\n",
       "       0, 0, 0, 0, 0, 0, 1, 1, 1, 1, 0, 0, 1, 1, 1, 0, 1, 0, 0, 0, 1, 0,\n",
       "       0, 1, 1, 1, 0, 1, 1, 1, 0, 0, 0, 0, 1, 0, 0, 0, 0, 0, 1, 0, 0, 1,\n",
       "       1, 0, 0, 1, 0, 0, 0, 1, 0, 1, 1, 0, 1, 0, 1, 0, 0, 0, 0, 0, 0, 1,\n",
       "       0, 0], dtype=int64)"
      ]
     },
     "execution_count": 27,
     "metadata": {},
     "output_type": "execute_result"
    }
   ],
   "source": [
    "y_pred"
   ]
  },
  {
   "cell_type": "code",
   "execution_count": null,
   "metadata": {},
   "outputs": [],
   "source": []
  },
  {
   "cell_type": "code",
   "execution_count": 28,
   "metadata": {},
   "outputs": [],
   "source": [
    "from tensorflow.keras.models import load_model\n",
    "from tensorflow.keras.preprocessing import image"
   ]
  },
  {
   "cell_type": "code",
   "execution_count": 29,
   "metadata": {},
   "outputs": [],
   "source": [
    "model=load_model('model_cnn.h5')"
   ]
  },
  {
   "cell_type": "code",
   "execution_count": null,
   "metadata": {},
   "outputs": [],
   "source": []
  },
  {
   "cell_type": "code",
   "execution_count": 30,
   "metadata": {},
   "outputs": [],
   "source": [
    "img=image.load_img('Dataset/Test/Uninfected/2.png',target_size=(224,224))\n",
    "\n"
   ]
  },
  {
   "cell_type": "code",
   "execution_count": 31,
   "metadata": {},
   "outputs": [
    {
     "data": {
      "text/plain": [
       "array([[[0., 0., 0.],\n",
       "        [0., 0., 0.],\n",
       "        [0., 0., 0.],\n",
       "        ...,\n",
       "        [0., 0., 0.],\n",
       "        [0., 0., 0.],\n",
       "        [0., 0., 0.]],\n",
       "\n",
       "       [[0., 0., 0.],\n",
       "        [0., 0., 0.],\n",
       "        [0., 0., 0.],\n",
       "        ...,\n",
       "        [0., 0., 0.],\n",
       "        [0., 0., 0.],\n",
       "        [0., 0., 0.]],\n",
       "\n",
       "       [[0., 0., 0.],\n",
       "        [0., 0., 0.],\n",
       "        [0., 0., 0.],\n",
       "        ...,\n",
       "        [0., 0., 0.],\n",
       "        [0., 0., 0.],\n",
       "        [0., 0., 0.]],\n",
       "\n",
       "       ...,\n",
       "\n",
       "       [[0., 0., 0.],\n",
       "        [0., 0., 0.],\n",
       "        [0., 0., 0.],\n",
       "        ...,\n",
       "        [0., 0., 0.],\n",
       "        [0., 0., 0.],\n",
       "        [0., 0., 0.]],\n",
       "\n",
       "       [[0., 0., 0.],\n",
       "        [0., 0., 0.],\n",
       "        [0., 0., 0.],\n",
       "        ...,\n",
       "        [0., 0., 0.],\n",
       "        [0., 0., 0.],\n",
       "        [0., 0., 0.]],\n",
       "\n",
       "       [[0., 0., 0.],\n",
       "        [0., 0., 0.],\n",
       "        [0., 0., 0.],\n",
       "        ...,\n",
       "        [0., 0., 0.],\n",
       "        [0., 0., 0.],\n",
       "        [0., 0., 0.]]], dtype=float32)"
      ]
     },
     "execution_count": 31,
     "metadata": {},
     "output_type": "execute_result"
    }
   ],
   "source": [
    "x=image.img_to_array(img)\n",
    "x"
   ]
  },
  {
   "cell_type": "code",
   "execution_count": 32,
   "metadata": {},
   "outputs": [
    {
     "data": {
      "text/plain": [
       "(224, 224, 3)"
      ]
     },
     "execution_count": 32,
     "metadata": {},
     "output_type": "execute_result"
    }
   ],
   "source": [
    "x.shape"
   ]
  },
  {
   "cell_type": "code",
   "execution_count": 33,
   "metadata": {},
   "outputs": [],
   "source": [
    "x=x/255"
   ]
  },
  {
   "cell_type": "code",
   "execution_count": 34,
   "metadata": {},
   "outputs": [
    {
     "data": {
      "text/plain": [
       "(1, 224, 224, 3)"
      ]
     },
     "execution_count": 34,
     "metadata": {},
     "output_type": "execute_result"
    }
   ],
   "source": [
    "x=np.expand_dims(x,axis=0)\n",
    "img_data=preprocess_input(x)\n",
    "img_data.shape"
   ]
  },
  {
   "cell_type": "code",
   "execution_count": 35,
   "metadata": {},
   "outputs": [
    {
     "data": {
      "text/plain": [
       "array([[1., 0.]], dtype=float32)"
      ]
     },
     "execution_count": 35,
     "metadata": {},
     "output_type": "execute_result"
    }
   ],
   "source": [
    "model.predict(img_data)"
   ]
  },
  {
   "cell_type": "code",
   "execution_count": 36,
   "metadata": {},
   "outputs": [],
   "source": [
    "a=np.argmax(model.predict(img_data), axis=1)"
   ]
  },
  {
   "cell_type": "code",
   "execution_count": 37,
   "metadata": {},
   "outputs": [
    {
     "name": "stdout",
     "output_type": "stream",
     "text": [
      "Infected\n"
     ]
    }
   ],
   "source": [
    "if(a==1):\n",
    "    print(\"Uninfected\")\n",
    "else:\n",
    "    print(\"Infected\")"
   ]
  },
  {
   "cell_type": "code",
   "execution_count": null,
   "metadata": {},
   "outputs": [],
   "source": []
  },
  {
   "cell_type": "code",
   "execution_count": null,
   "metadata": {},
   "outputs": [],
   "source": []
  }
 ],
 "metadata": {
  "kernelspec": {
   "display_name": "Python 3",
   "language": "python",
   "name": "python3"
  },
  "language_info": {
   "codemirror_mode": {
    "name": "ipython",
    "version": 3
   },
   "file_extension": ".py",
   "mimetype": "text/x-python",
   "name": "python",
   "nbconvert_exporter": "python",
   "pygments_lexer": "ipython3",
   "version": "3.7.4"
  }
 },
 "nbformat": 4,
 "nbformat_minor": 2
}
